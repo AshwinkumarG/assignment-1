{
  "nbformat": 4,
  "nbformat_minor": 0,
  "metadata": {
    "colab": {
      "name": "assignment1.ipynb",
      "provenance": [],
      "collapsed_sections": [],
      "authorship_tag": "ABX9TyNAvHwttgZLx4MXAoGDBU+p",
      "include_colab_link": true
    },
    "kernelspec": {
      "name": "python3",
      "display_name": "Python 3"
    }
  },
  "cells": [
    {
      "cell_type": "markdown",
      "metadata": {
        "id": "view-in-github",
        "colab_type": "text"
      },
      "source": [
        "<a href=\"https://colab.research.google.com/github/hemanthghk/assignment/blob/master/assignment1.ipynb\" target=\"_parent\"><img src=\"https://colab.research.google.com/assets/colab-badge.svg\" alt=\"Open In Colab\"/></a>"
      ]
    },
    {
      "cell_type": "markdown",
      "metadata": {
        "id": "BLE9FmQiAjuG",
        "colab_type": "text"
      },
      "source": [
        "1.write a python program to design simple calculator for the operators\n",
        "+(addition)\n",
        "-(substraction)\n",
        "*(multiplication)\n",
        "/(division)\n",
        "%(modulus)\n",
        "**(exponent)\n",
        "//(floor division)"
      ]
    },
    {
      "cell_type": "code",
      "metadata": {
        "id": "7Zn7JRofBakm",
        "colab_type": "code",
        "colab": {}
      },
      "source": [
        "num1= int(input(\"Enter a number: \"))\n",
        "num2= int(input(\"Enter another number: \"))\n",
        "add= num1+num2\n",
        "sub= num1-num2\n",
        "pro= num1*num2\n",
        "div= num1/num2\n",
        "mod= num1%num2\n",
        "power= num1**num2\n",
        "floor_div= num1//num2\n",
        "print(\"The sum is\", add)\n",
        "print(\"The difference is\", sub)\n",
        "print(\"The product is\", pro)\n",
        "print(\"The division is\", div)\n",
        "print(\"The remainder is\", mod)\n",
        "print(\"The power of \", num1, \"to \", num2,  \"is \", power)\n",
        "print(\"The floor division is\", floor_div)"
      ],
      "execution_count": null,
      "outputs": []
    },
    {
      "cell_type": "markdown",
      "metadata": {
        "id": "bl1MULBvB1S8",
        "colab_type": "text"
      },
      "source": [
        "2.Write a python program to calculate the simple interest"
      ]
    },
    {
      "cell_type": "code",
      "metadata": {
        "id": "lUIkptPoCHCa",
        "colab_type": "code",
        "colab": {}
      },
      "source": [
        "principal = float(input(\"Enter the principal amount: \"))\n",
        "time = float(input(\"Enter the time period: \"))\n",
        "rate = float(input(\"Enter the rate of interest: \"))\n",
        "simple_interest= (principal*time*rate)/100\n",
        "print(\"Simple Interest = \", simple_interest)"
      ],
      "execution_count": null,
      "outputs": []
    },
    {
      "cell_type": "markdown",
      "metadata": {
        "id": "g5FAHkafCLn0",
        "colab_type": "text"
      },
      "source": [
        "3.Write a python program to calculate area of a circle"
      ]
    },
    {
      "cell_type": "code",
      "metadata": {
        "id": "6f3tfI9kCXCT",
        "colab_type": "code",
        "colab": {}
      },
      "source": [
        "radius= float(input(\"Enter the radius of the circle\"))\n",
        "PI= 3.1412\n",
        "area= PI*radius*radius\n",
        "print(\"The area of the circle= \",area)"
      ],
      "execution_count": null,
      "outputs": []
    },
    {
      "cell_type": "markdown",
      "metadata": {
        "id": "M0D6Hl6OCaxb",
        "colab_type": "text"
      },
      "source": [
        "4.Write a python program to find the area of a square"
      ]
    },
    {
      "cell_type": "code",
      "metadata": {
        "id": "hdJxCr8TCgbs",
        "colab_type": "code",
        "colab": {}
      },
      "source": [
        "base= float(input(\"Enter the base of the triange: \"))\n",
        "height= float(input(\"Enter the height of the triange: \"))\n",
        "tri_area= 0.5*base*height\n",
        "print(\"The area of the triange= \",tri_area)"
      ],
      "execution_count": null,
      "outputs": []
    },
    {
      "cell_type": "markdown",
      "metadata": {
        "id": "qafQWoB6Ck_0",
        "colab_type": "text"
      },
      "source": [
        "5.Write a python program to convert temperature from celcius to fahrenheit "
      ]
    },
    {
      "cell_type": "code",
      "metadata": {
        "id": "pXG7JxMwCt-f",
        "colab_type": "code",
        "colab": {}
      },
      "source": [
        "celsius= float(input(\"Enter temp in Celsius: \"))\n",
        "fahrenheit = (celsius * 9/5) + 32\n",
        "print(\"Temperature in Fahrenheit is: \", fahrenheit)"
      ],
      "execution_count": null,
      "outputs": []
    },
    {
      "cell_type": "markdown",
      "metadata": {
        "id": "MA4t3sYMC0JW",
        "colab_type": "text"
      },
      "source": [
        "6. Write a python program to calculate the area of a rectange"
      ]
    },
    {
      "cell_type": "code",
      "metadata": {
        "id": "7KY2KsIhC5ru",
        "colab_type": "code",
        "colab": {}
      },
      "source": [
        "length= float(input(\"Enter the length: \"))\n",
        "breadth= float(input(\"Enter the breadth: \"))\n",
        "area_rect= length*breadth\n",
        "print(\"Area of the rectange is: \",area_rect)"
      ],
      "execution_count": null,
      "outputs": []
    },
    {
      "cell_type": "markdown",
      "metadata": {
        "id": "jUKd-E_ZDBBY",
        "colab_type": "text"
      },
      "source": [
        "7. Write a python program to calculate the perimeter of a square"
      ]
    },
    {
      "cell_type": "code",
      "metadata": {
        "id": "XhpRHc_rDH_Q",
        "colab_type": "code",
        "colab": {}
      },
      "source": [
        "side= float(input(\"Enter the side of the square: \"))\n",
        "perimeter= 4*side\n",
        "print(\"Perimeter of the square= \",perimeter)"
      ],
      "execution_count": null,
      "outputs": []
    },
    {
      "cell_type": "markdown",
      "metadata": {
        "id": "jXk8801WDQKm",
        "colab_type": "text"
      },
      "source": [
        "8. Write a python program to calculate the circumference of a circle"
      ]
    },
    {
      "cell_type": "code",
      "metadata": {
        "id": "_vgPVbx6DXce",
        "colab_type": "code",
        "colab": {}
      },
      "source": [
        "rad= float(input(\"Enter the radius of the circle: \"))\n",
        "circumference= 2*PI*rad\n",
        "print(\"Circumference of the circle= \",circumference)\n",
        "#the value of PI is take from the previous line of code used for area of the circle"
      ],
      "execution_count": null,
      "outputs": []
    },
    {
      "cell_type": "markdown",
      "metadata": {
        "id": "mvES3Y_9DeAs",
        "colab_type": "text"
      },
      "source": [
        "9. Write a python program to swap two numbers"
      ]
    },
    {
      "cell_type": "code",
      "metadata": {
        "id": "vyhtDBTsDjpH",
        "colab_type": "code",
        "colab": {}
      },
      "source": [
        "a= int(input(\"Enter a number: \"))\n",
        "b= int(input(\"Enter another number: \"))\n",
        "print(\"Numbers before swapping are:(a,b)= \", a,b)\n",
        "a= a+b\n",
        "b= a-b\n",
        "a= a-b\n",
        "print(\"Swapped numbers are:(a,b)= \",a,b)"
      ],
      "execution_count": null,
      "outputs": []
    },
    {
      "cell_type": "markdown",
      "metadata": {
        "id": "soduIqFoDowT",
        "colab_type": "text"
      },
      "source": [
        "assignment 1 completed."
      ]
    }
  ]
}